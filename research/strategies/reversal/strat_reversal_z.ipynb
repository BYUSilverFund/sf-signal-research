{
 "cells": [
  {
   "cell_type": "code",
   "execution_count": null,
   "metadata": {},
   "outputs": [],
   "source": [
    "import sys\n",
    "\n",
    "sys.path.append(\"../../..\")\n",
    "\n",
    "from research.config import set_project_root\n",
    "\n",
    "set_project_root(levels_up=3, print_root=True)"
   ]
  },
  {
   "cell_type": "code",
   "execution_count": null,
   "metadata": {},
   "outputs": [],
   "source": [
    "import pandas as pd\n",
    "import numpy as np\n",
    "from finance_byu.summarize import summary\n",
    "from scipy.stats import zscore\n",
    "from research.datasets import RussellDaily, CRSPDaily"
   ]
  },
  {
   "cell_type": "code",
   "execution_count": null,
   "metadata": {},
   "outputs": [],
   "source": [
    "# Read in crsp daily data\n",
    "df = CRSPDaily().df\n",
    "\n",
    "# Drop columns\n",
    "df = df.drop(columns=[\"shrcd\", \"exchcd\", \"shrout\"])\n",
    "\n",
    "# Clean date variables\n",
    "df[\"year\"] = df[\"date\"].dt.year\n",
    "df[\"month\"] = df[\"date\"].dt.month\n",
    "\n",
    "# In sample\n",
    "start = np.datetime64(\"2000-01-01\")\n",
    "end = np.datetime64(\"2020-12-31\")\n",
    "\n",
    "df = df[(df[\"date\"] >= start) & (df[\"date\"] <= end)]\n",
    "\n",
    "df = df.reset_index(drop=True)\n",
    "\n",
    "df"
   ]
  },
  {
   "cell_type": "code",
   "execution_count": null,
   "metadata": {},
   "outputs": [],
   "source": [
    "# Read in benchmark data\n",
    "bmk = RussellDaily().df\n",
    "\n",
    "# Merge\n",
    "df = df.merge(bmk, on=\"date\", how=\"inner\", suffixes=(\"\", \"_mkt\"))\n",
    "\n",
    "df = df.drop_duplicates().reset_index(drop=True)\n",
    "\n",
    "df"
   ]
  },
  {
   "cell_type": "code",
   "execution_count": null,
   "metadata": {},
   "outputs": [],
   "source": [
    "# Compute residual (alpha) for each permno on a rolling year window\n",
    "\n",
    "year_window = 252\n",
    "\n",
    "df[\"ret_mkt_cov\"] = (\n",
    "    df.groupby(\"permno\")[[\"ret\", \"ret_mkt\"]]\n",
    "    .apply(lambda x: x[\"ret\"].rolling(year_window, year_window).cov(x[\"ret_mkt\"]))\n",
    "    .reset_index(drop=True)\n",
    ")\n",
    "\n",
    "df[\"mkt_var\"] = df.groupby(\"permno\")[\"ret_mkt\"].rolling(year_window).var().reset_index(drop=True)\n",
    "\n",
    "df[\"beta\"] = df[\"ret_mkt_cov\"] / df[\"mkt_var\"]\n",
    "\n",
    "df[\"res\"] = df[\"ret\"] - df[\"ret_mkt\"] * df[\"beta\"]\n",
    "\n",
    "df"
   ]
  },
  {
   "cell_type": "code",
   "execution_count": null,
   "metadata": {},
   "outputs": [],
   "source": [
    "# Calculate reversal signal\n",
    "month_window = 22\n",
    "\n",
    "# Log Returns\n",
    "df[\"logret\"] = np.log1p(df[\"ret\"])\n",
    "\n",
    "# Momentum from t-6 to t-1\n",
    "df[\"rev\"] = (\n",
    "    df.groupby(\"permno\")[\"logret\"].rolling(month_window, month_window).sum().reset_index(drop=True)\n",
    ")\n",
    "df[\"rev\"] = df.groupby(\"permno\")[\"rev\"].shift(1)  # lag the reversal feature\n",
    "\n",
    "df"
   ]
  },
  {
   "cell_type": "code",
   "execution_count": null,
   "metadata": {},
   "outputs": [],
   "source": [
    "# Compute Alphas\n",
    "\n",
    "df[\"ic\"] = (\n",
    "    df.groupby(\"permno\")[[\"rev\", \"res\"]]\n",
    "    .apply(lambda group: group[\"rev\"].rolling(month_window, month_window).corr(group[\"res\"]))\n",
    "    .reset_index(level=0, drop=True)\n",
    ")\n",
    "\n",
    "df[\"res_vol\"] = (\n",
    "    df.groupby(\"permno\")[\"res\"].rolling(month_window, month_window).std().reset_index(drop=True)\n",
    ")\n",
    "\n",
    "df = df.dropna().reset_index(drop=True)\n",
    "df[\"z_rev\"] = df.groupby(\"date\")[\"rev\"].apply(zscore).reset_index(drop=True)\n",
    "\n",
    "df[\"alpha\"] = df[\"ic\"] * df[\"res_vol\"] * df[\"z_rev\"]\n",
    "\n",
    "df"
   ]
  },
  {
   "cell_type": "code",
   "execution_count": null,
   "metadata": {},
   "outputs": [],
   "source": [
    "alphas = df.pivot(columns=\"permno\", values=\"alpha\", index=\"date\")\n",
    "\n",
    "alphas"
   ]
  }
 ],
 "metadata": {
  "kernelspec": {
   "display_name": ".venv",
   "language": "python",
   "name": "python3"
  },
  "language_info": {
   "codemirror_mode": {
    "name": "ipython",
    "version": 3
   },
   "file_extension": ".py",
   "mimetype": "text/x-python",
   "name": "python",
   "nbconvert_exporter": "python",
   "pygments_lexer": "ipython3",
   "version": "3.12.4"
  }
 },
 "nbformat": 4,
 "nbformat_minor": 2
}
