{
 "cells": [
  {
   "cell_type": "code",
   "execution_count": null,
   "metadata": {},
   "outputs": [],
   "source": [
    "import sys\n",
    "\n",
    "sys.path.append(\"../..\")\n",
    "from config import set_project_root\n",
    "\n",
    "set_project_root(levels_up=3)"
   ]
  },
  {
   "cell_type": "code",
   "execution_count": null,
   "metadata": {},
   "outputs": [],
   "source": [
    "import pandas as pd\n",
    "import numpy as np\n",
    "from research.datasets import CRSP\n",
    "import statsmodels.formula.api as smf"
   ]
  },
  {
   "cell_type": "code",
   "execution_count": null,
   "metadata": {},
   "outputs": [],
   "source": [
    "# Read in crsp monthly data\n",
    "\n",
    "df = CRSP().df.copy()\n",
    "\n",
    "df.head()"
   ]
  },
  {
   "cell_type": "code",
   "execution_count": null,
   "metadata": {},
   "outputs": [],
   "source": [
    "# In sample\n",
    "start = np.datetime64(\"1929-01-01\")\n",
    "end = np.datetime64(\"1982-12-31\")\n",
    "\n",
    "df = df[(df[\"date\"] >= start) & (df[\"date\"] <= end)]\n",
    "\n",
    "df = df.reset_index(drop=True)\n",
    "\n",
    "df"
   ]
  },
  {
   "cell_type": "code",
   "execution_count": null,
   "metadata": {},
   "outputs": [],
   "source": [
    "# Cleaning\n",
    "\n",
    "df = df[[\"permno\", \"ticker\", \"date\", \"prc\", \"ret\"]].copy()\n",
    "\n",
    "df[\"mdt\"] = df[\"date\"].dt.strftime(\"%Y-%m\")\n",
    "df[\"month\"] = df[\"date\"].dt.month\n",
    "df[\"year\"] = df[\"date\"].dt.year\n",
    "\n",
    "\n",
    "df.head()"
   ]
  },
  {
   "cell_type": "code",
   "execution_count": null,
   "metadata": {},
   "outputs": [],
   "source": [
    "# Target Variable\n",
    "df[\"ret_60_mean\"] = df.groupby(\"permno\")[\"ret\"].rolling(59, 59).mean().reset_index(drop=True)\n",
    "df[\"ret_60_mean\"] = df.groupby(\"permno\")[\"ret_60_mean\"].shift(-1)\n",
    "\n",
    "df[\"xs_ret\"] = df[\"ret\"] - df[\"ret_60_mean\"]\n",
    "\n",
    "\n",
    "# Explanatory Variables\n",
    "def create_lags(df, lags, column=\"ret\"):\n",
    "    for lag in lags:\n",
    "        df[f\"{column}_lag_{lag}\"] = df.groupby(\"permno\")[column].shift(lag)\n",
    "    return df\n",
    "\n",
    "\n",
    "lags = list(range(1, 13)) + [24, 36]\n",
    "\n",
    "df = create_lags(df, lags)\n",
    "df = df.dropna()\n",
    "\n",
    "df"
   ]
  },
  {
   "cell_type": "code",
   "execution_count": null,
   "metadata": {},
   "outputs": [],
   "source": [
    "formula = \"xs_ret ~ \" + \" + \".join([f\"ret_lag_{lag}\" for lag in lags])\n",
    "\n",
    "mdts = df[\"mdt\"].unique()\n",
    "\n",
    "result_df_list = []\n",
    "\n",
    "for mdt in mdts:\n",
    "    # Filter data for the current year\n",
    "    slice_df = df[df[\"mdt\"] == mdt].copy()\n",
    "\n",
    "    # Fit the OLS regression model using the formula syntax\n",
    "    model = smf.ols(formula=formula, data=slice_df)\n",
    "    result = model.fit()\n",
    "\n",
    "    result_df = pd.DataFrame()\n",
    "\n",
    "    result_df[\"name\"] = [\"intercept\"] + [f\"ret_lag_{lag}\" for lag in lags]\n",
    "    result_df[\"mdt\"] = mdt\n",
    "    result_df[\"coef\"] = result.params.values\n",
    "    result_df[\"t_stat\"] = result.tvalues.values\n",
    "\n",
    "    result_df_list.append(result_df)\n",
    "\n",
    "# Display the resulting DataFrame\n",
    "combined = pd.concat(result_df_list)\n",
    "\n",
    "combined"
   ]
  },
  {
   "cell_type": "code",
   "execution_count": null,
   "metadata": {},
   "outputs": [],
   "source": [
    "combined[[\"name\", \"coef\", \"t_stat\"]].groupby(\"name\").mean().T"
   ]
  },
  {
   "cell_type": "code",
   "execution_count": null,
   "metadata": {},
   "outputs": [],
   "source": []
  }
 ],
 "metadata": {
  "kernelspec": {
   "display_name": ".venv",
   "language": "python",
   "name": "python3"
  },
  "language_info": {
   "codemirror_mode": {
    "name": "ipython",
    "version": 3
   },
   "file_extension": ".py",
   "mimetype": "text/x-python",
   "name": "python",
   "nbconvert_exporter": "python",
   "pygments_lexer": "ipython3",
   "version": "3.12.4"
  }
 },
 "nbformat": 4,
 "nbformat_minor": 2
}
