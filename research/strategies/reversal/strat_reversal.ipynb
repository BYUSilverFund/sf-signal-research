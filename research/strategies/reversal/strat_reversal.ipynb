{
 "cells": [
  {
   "cell_type": "code",
   "execution_count": null,
   "metadata": {},
   "outputs": [],
   "source": [
    "import sys\n",
    "\n",
    "sys.path.append(\"../..\")\n",
    "from config import set_project_root\n",
    "\n",
    "set_project_root(levels_up=3)"
   ]
  },
  {
   "cell_type": "code",
   "execution_count": null,
   "metadata": {},
   "outputs": [],
   "source": [
    "import pandas as pd\n",
    "import numpy as np\n",
    "import matplotlib.pyplot as plt\n",
    "from research.datasets import CRSP\n",
    "from research.utils import summary"
   ]
  },
  {
   "cell_type": "code",
   "execution_count": null,
   "metadata": {},
   "outputs": [],
   "source": [
    "# Read in crsp monthly data\n",
    "\n",
    "df = CRSP().df.copy()\n",
    "\n",
    "df.head()"
   ]
  },
  {
   "cell_type": "code",
   "execution_count": null,
   "metadata": {},
   "outputs": [],
   "source": [
    "# In sample\n",
    "start = np.datetime64(\"1929-01-01\")\n",
    "end = np.datetime64(\"1982-12-31\")\n",
    "\n",
    "df = df[(df[\"date\"] >= start) & (df[\"date\"] <= end)]\n",
    "\n",
    "df = df.reset_index(drop=True)\n",
    "\n",
    "df"
   ]
  },
  {
   "cell_type": "code",
   "execution_count": null,
   "metadata": {},
   "outputs": [],
   "source": [
    "# Cleaning\n",
    "\n",
    "df = df[[\"permno\", \"ticker\", \"date\", \"prc\", \"ret\"]].copy()\n",
    "\n",
    "df[\"mdt\"] = pd.to_datetime(df[\"date\"]).dt.strftime(\"%Y-%m\")\n",
    "df[\"month\"] = pd.to_datetime(df[\"date\"]).dt.strftime(\"%m\")\n",
    "\n",
    "df.head()"
   ]
  },
  {
   "cell_type": "code",
   "execution_count": null,
   "metadata": {},
   "outputs": [],
   "source": [
    "# Calculate Reversal feature\n",
    "window = 1\n",
    "\n",
    "# Log Returns\n",
    "df[\"logret\"] = np.log1p(df[\"ret\"])\n",
    "\n",
    "# Reversal from t-1 to t (also know as 1 month momentum)\n",
    "df[\"rev_1\"] = df.groupby(\"permno\")[\"logret\"].rolling(1, 1).sum().reset_index(drop=True)\n",
    "df[\"rev_1\"] = df.groupby(\"permno\")[\"rev_1\"].shift(1)\n",
    "\n",
    "# Reversal from t-12 to t (also know as 1 month momentum)\n",
    "df[\"rev_12\"] = (\n",
    "    df.groupby(\"permno\")[\"logret\"].rolling(12, 12).sum().reset_index(drop=True)\n",
    ")\n",
    "df[\"rev_12\"] = df.groupby(\"permno\")[\"rev_12\"].shift(1)\n",
    "\n",
    "df"
   ]
  },
  {
   "cell_type": "code",
   "execution_count": null,
   "metadata": {},
   "outputs": [],
   "source": [
    "# Filtering by prc greater than 5 and months that momentum is known\n",
    "\n",
    "df[\"prclag\"] = df.groupby(\"permno\")[\"prc\"].shift(1)\n",
    "\n",
    "df = df.query(\"rev_1 == rev_1 and rev_12 == rev_12 and prclag >= 5\").reset_index(\n",
    "    drop=True\n",
    ")\n",
    "\n",
    "df"
   ]
  },
  {
   "cell_type": "code",
   "execution_count": null,
   "metadata": {},
   "outputs": [],
   "source": [
    "# Reversal decile bins\n",
    "df[\"rev_1_bins\"] = df.groupby(\"mdt\")[\"rev_1\"].transform(\n",
    "    lambda x: pd.qcut(x, 10, labels=False, duplicates=\"drop\")\n",
    ")  # I would like to not drop dulplicates\n",
    "df[\"rev_12_bins\"] = df.groupby(\"mdt\")[\"rev_12\"].transform(\n",
    "    lambda x: pd.qcut(x, 10, labels=False, duplicates=\"drop\")\n",
    ")  # I would like to not drop dulplicates\n",
    "\n",
    "df"
   ]
  },
  {
   "cell_type": "code",
   "execution_count": null,
   "metadata": {},
   "outputs": [],
   "source": [
    "# Form portfolios on reversal bins\n",
    "\n",
    "# Portfolio df for summary stats\n",
    "port_s1 = (\n",
    "    df.groupby([\"mdt\", \"rev_1_bins\"])[\"ret\"].mean().unstack(level=[\"rev_1_bins\"]) * 100\n",
    ")\n",
    "port_s12 = (\n",
    "    df.groupby([\"mdt\", \"rev_12_bins\"])[\"ret\"].mean().unstack(level=[\"rev_12_bins\"])\n",
    "    * 100\n",
    ")\n",
    "\n",
    "# Drop rows from port where we don't know the holding return\n",
    "port_s1 = port_s1.dropna()\n",
    "port_s12 = port_s12.dropna()\n",
    "\n",
    "# Spread portfolio: Long loser. Short winner.\n",
    "port_s1[\"spread\"] = port_s1[0] - port_s1[9]\n",
    "port_s12[\"spread\"] = port_s12[9] - port_s12[0]\n",
    "\n",
    "display(port_s1, port_s12)"
   ]
  },
  {
   "cell_type": "code",
   "execution_count": null,
   "metadata": {},
   "outputs": [],
   "source": [
    "from tabulate import tabulate\n",
    "\n",
    "\n",
    "def table(data: pd.DataFrame, title: str = \"\"):\n",
    "    return title + \"\\n\" + tabulate(data, headers=\"keys\", tablefmt=\"heavy_grid\") + \"\\n\""
   ]
  },
  {
   "cell_type": "code",
   "execution_count": null,
   "metadata": {},
   "outputs": [],
   "source": [
    "port_s1"
   ]
  },
  {
   "cell_type": "code",
   "execution_count": null,
   "metadata": {},
   "outputs": [],
   "source": [
    "summary(port_s1).round(3)"
   ]
  },
  {
   "cell_type": "code",
   "execution_count": null,
   "metadata": {},
   "outputs": [],
   "source": [
    "# Summary\n",
    "\n",
    "rev_1_summary = summary(port_s1).loc[[\"mean\", \"std\", \"tstat\"]].round(3)\n",
    "rev_12_summary = summary(port_s12).loc[[\"mean\", \"std\", \"tstat\"]].round(3)\n",
    "\n",
    "print(table(data=rev_1_summary, title=\"1 Month Reversal Portfolios\"))\n",
    "print(table(data=rev_12_summary, title=\"12 Month Reversal Portfolio\"))"
   ]
  },
  {
   "cell_type": "code",
   "execution_count": null,
   "metadata": {},
   "outputs": [],
   "source": [
    "# Log return dataframe\n",
    "log_ret = np.log1p(port_s1 / 100)\n",
    "\n",
    "# Cummulative return dataframe\n",
    "cum_ret = log_ret.cumsum()\n",
    "cum_ret.index = pd.to_datetime(cum_ret.index)\n",
    "\n",
    "# Lineplot\n",
    "plt.figure(figsize=(10, 6))\n",
    "\n",
    "for col in cum_ret.columns:\n",
    "    color = \"red\" if col == \"spread\" else None\n",
    "    plt.plot(cum_ret[col], label=f\"Port {col}\", color=color)\n",
    "\n",
    "plt.title(\"S1 Reversal Portfolios (Rebalanced Monthly)\")\n",
    "plt.ylabel(\"Cummulative Monthly Returns\")\n",
    "plt.legend()\n",
    "plt.show()"
   ]
  },
  {
   "cell_type": "code",
   "execution_count": null,
   "metadata": {},
   "outputs": [],
   "source": [
    "# Log return dataframe\n",
    "log_ret = np.log1p(port_s12 / 100)\n",
    "\n",
    "# Cummulative return dataframe\n",
    "cum_ret = log_ret.cumsum()\n",
    "cum_ret.index = pd.to_datetime(cum_ret.index)\n",
    "\n",
    "# Lineplot\n",
    "plt.figure(figsize=(10, 6))\n",
    "\n",
    "for col in cum_ret.columns:\n",
    "    color = \"red\" if col == \"spread\" else None\n",
    "    plt.plot(cum_ret[col], label=f\"Port {col}\", color=color)\n",
    "\n",
    "plt.title(\"S12 Reversal Portfolios (Rebalanced Monthly)\")\n",
    "plt.ylabel(\"Cummulative Monthly Returns\")\n",
    "plt.legend()\n",
    "plt.show()"
   ]
  },
  {
   "cell_type": "code",
   "execution_count": null,
   "metadata": {},
   "outputs": [],
   "source": []
  }
 ],
 "metadata": {
  "kernelspec": {
   "display_name": ".venv",
   "language": "python",
   "name": "python3"
  },
  "language_info": {
   "codemirror_mode": {
    "name": "ipython",
    "version": 3
   },
   "file_extension": ".py",
   "mimetype": "text/x-python",
   "name": "python",
   "nbconvert_exporter": "python",
   "pygments_lexer": "ipython3",
   "version": "3.12.4"
  }
 },
 "nbformat": 4,
 "nbformat_minor": 2
}
