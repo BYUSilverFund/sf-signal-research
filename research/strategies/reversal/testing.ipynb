{
 "cells": [
  {
   "cell_type": "code",
   "execution_count": null,
   "metadata": {},
   "outputs": [],
   "source": [
    "import sys\n",
    "\n",
    "sys.path.append(\"../../..\")\n",
    "\n",
    "from research.config import set_project_root\n",
    "\n",
    "set_project_root(levels_up=3, print_root=True)"
   ]
  },
  {
   "cell_type": "code",
   "execution_count": null,
   "metadata": {},
   "outputs": [],
   "source": [
    "import pandas as pd\n",
    "import numpy as np\n",
    "import matplotlib.pyplot as plt\n",
    "from research.datasets import CRSP\n",
    "from finance_byu import summarize"
   ]
  },
  {
   "cell_type": "code",
   "execution_count": null,
   "metadata": {},
   "outputs": [],
   "source": [
    "# Read in crsp monthly data\n",
    "\n",
    "df = CRSP().df.copy()\n",
    "\n",
    "df = df.dropna(subset=[\"prc\"]).reset_index(drop=True)\n",
    "\n",
    "df.head()"
   ]
  },
  {
   "cell_type": "code",
   "execution_count": null,
   "metadata": {},
   "outputs": [],
   "source": [
    "# # In sample\n",
    "# start = np.datetime64(\"1929-01-01\")\n",
    "# end = np.datetime64(\"1982-12-31\")\n",
    "\n",
    "# df = df[(df[\"date\"] >= start) & (df[\"date\"] <= end)]\n",
    "\n",
    "# df = df.reset_index(drop=True)\n",
    "\n",
    "# df"
   ]
  },
  {
   "cell_type": "code",
   "execution_count": null,
   "metadata": {},
   "outputs": [],
   "source": [
    "window_length = 12\n",
    "\n",
    "days = sorted(df[\"date\"].unique())\n",
    "\n",
    "total_days = len(days)\n",
    "\n",
    "days"
   ]
  },
  {
   "cell_type": "code",
   "execution_count": null,
   "metadata": {},
   "outputs": [],
   "source": [
    "windows = {}\n",
    "for i in range(window_length, total_days):\n",
    "    start_day = days[i - window_length]\n",
    "    end_day = days[i]\n",
    "    window = df[(df[\"date\"] >= start_day) & (df[\"date\"] <= end_day)].copy().reset_index(drop=True)\n",
    "    windows[end_day.strftime(\"%Y-%m-%d\")] = window\n",
    "\n",
    "windows"
   ]
  },
  {
   "cell_type": "code",
   "execution_count": null,
   "metadata": {},
   "outputs": [],
   "source": [
    "for date, window in windows.items():\n",
    "    window[\"logret\"] = np.log1p(window[\"ret\"])\n",
    "    window[\"mom\"] = window.groupby(\"permno\")[\"logret\"].rolling(11, 11).sum().reset_index(drop=True)\n",
    "    window[\"mom\"] = window.groupby(\"permno\")[\"mom\"].shift(2)"
   ]
  },
  {
   "cell_type": "code",
   "execution_count": null,
   "metadata": {},
   "outputs": [],
   "source": [
    "test = windows[date].copy()\n",
    "\n",
    "test"
   ]
  },
  {
   "cell_type": "code",
   "execution_count": null,
   "metadata": {},
   "outputs": [],
   "source": [
    "subset = test[test[\"date\"] == date].reset_index(drop=True)\n",
    "\n",
    "subset"
   ]
  },
  {
   "cell_type": "code",
   "execution_count": null,
   "metadata": {},
   "outputs": [],
   "source": [
    "subset = subset.dropna().reset_index(drop=True)\n",
    "\n",
    "subset"
   ]
  },
  {
   "cell_type": "code",
   "execution_count": null,
   "metadata": {},
   "outputs": [],
   "source": [
    "subset.groupby(\"date\")[\"mom\"].describe()"
   ]
  },
  {
   "cell_type": "code",
   "execution_count": null,
   "metadata": {},
   "outputs": [],
   "source": [
    "# DataLoader\n",
    "# DataModule (batched windows, combination of DataLoaders)\n",
    "# Signal (recieves a DataModule and produces a matrix)\n",
    "#"
   ]
  }
 ],
 "metadata": {
  "kernelspec": {
   "display_name": ".venv",
   "language": "python",
   "name": "python3"
  },
  "language_info": {
   "codemirror_mode": {
    "name": "ipython",
    "version": 3
   },
   "file_extension": ".py",
   "mimetype": "text/x-python",
   "name": "python",
   "nbconvert_exporter": "python",
   "pygments_lexer": "ipython3",
   "version": "3.12.4"
  }
 },
 "nbformat": 4,
 "nbformat_minor": 2
}
