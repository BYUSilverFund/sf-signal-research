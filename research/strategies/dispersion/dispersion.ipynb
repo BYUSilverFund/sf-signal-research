{
 "cells": [
  {
   "cell_type": "code",
   "execution_count": null,
   "id": "0",
   "metadata": {},
   "outputs": [],
   "source": [
    "from research.config import set_project_root\n",
    "\n",
    "set_project_root(levels_up=3, print_root=True)"
   ]
  },
  {
   "cell_type": "code",
   "execution_count": null,
   "id": "1",
   "metadata": {},
   "outputs": [],
   "source": [
    "import pandas as pd\n",
    "import numpy as np\n",
    "from research.datasets import CRSP\n",
    "from finance_byu.summarize import summary"
   ]
  },
  {
   "cell_type": "code",
   "execution_count": null,
   "id": "2",
   "metadata": {},
   "outputs": [],
   "source": [
    "df = CRSP().df.copy()\n",
    "df.head()"
   ]
  },
  {
   "cell_type": "code",
   "execution_count": null,
   "id": "3",
   "metadata": {},
   "outputs": [],
   "source": [
    "# TODO: add ibes data into dataset group. Download and put on drive\n",
    "ibes = pd.read_csv(\"/home/josh-chambers/Downloads/08-ibes_eps_analyst.csv\", parse_dates=[\"caldt\"])\n",
    "ibes.head(5)"
   ]
  },
  {
   "cell_type": "code",
   "execution_count": null,
   "id": "4",
   "metadata": {},
   "outputs": [],
   "source": [
    "df[\"mdt\"] = df[\"date\"].values.astype(\"datetime64[M]\")\n",
    "df.head(5)"
   ]
  },
  {
   "cell_type": "code",
   "execution_count": null,
   "id": "5",
   "metadata": {},
   "outputs": [],
   "source": [
    "ibes[\"mdt\"] = ibes[\"caldt\"].values.astype(\"datetime64[M]\")\n",
    "ibes.head(5)"
   ]
  },
  {
   "cell_type": "code",
   "execution_count": null,
   "id": "6",
   "metadata": {},
   "outputs": [],
   "source": [
    "ibes = ibes.drop(columns=[\"caldt\"])\n",
    "\n",
    "df = df.merge(ibes, on=[\"cusip\", \"mdt\"], how=\"left\")\n",
    "df.head(5)"
   ]
  },
  {
   "cell_type": "markdown",
   "id": "7",
   "metadata": {},
   "source": [
    "**Create Dispersion Variable and Lagged Variables**"
   ]
  },
  {
   "cell_type": "code",
   "execution_count": null,
   "id": "8",
   "metadata": {},
   "outputs": [],
   "source": [
    "df[\"disp\"] = df[\"stdev\"] / np.abs(df[\"meanest\"])\n",
    "\n",
    "df[\"displag\"] = df.groupby(\"permno\")[\"disp\"].shift()\n",
    "df[\"displag3\"] = df.groupby(\"permno\")[\"disp\"].shift(3)\n",
    "df[\"prclag\"] = df.groupby(\"permno\")[\"prc\"].shift()\n",
    "\n",
    "df.head()"
   ]
  },
  {
   "cell_type": "markdown",
   "id": "9",
   "metadata": {},
   "source": [
    "**Task 1 and 2**\n",
    "\n",
    "+ Form equal-weight portfolios based on lagged dispersion.<br><br>\n",
    "\n",
    "+ Add a spread portfolio. Report summary statistics.<br><br>\n",
    "\n",
    "\n",
    "**Working off a new copy of the data**\n",
    "\n",
    "I'm going to work off sub-selection of the data I have the non-queried/selected data to go back to when I to the lagged three months dispersion based portfolios. "
   ]
  },
  {
   "cell_type": "code",
   "execution_count": null,
   "id": "10",
   "metadata": {},
   "outputs": [],
   "source": [
    "df = df.query(\"displag == displag and prclag >= 5 and meanest > -inf\").reset_index(drop=True)\n",
    "df.head()"
   ]
  },
  {
   "cell_type": "code",
   "execution_count": null,
   "id": "11",
   "metadata": {},
   "outputs": [],
   "source": [
    "df[\"bins\"] = df.groupby(\"date\")[\"displag\"].transform(pd.qcut, 5, labels=False)\n",
    "\n",
    "ew = (\n",
    "    df.groupby([\"date\", \"bins\"])[\"ret\"]\n",
    "    .mean()\n",
    "    .unstack(level=\"bins\")\n",
    "    .rename(\"p{:.0f}\".format, axis=\"columns\")\n",
    "    * 100\n",
    ")\n",
    "ew.head()"
   ]
  },
  {
   "cell_type": "code",
   "execution_count": null,
   "id": "12",
   "metadata": {},
   "outputs": [],
   "source": [
    "ew[\"spr\"] = ew[\"p0\"] - ew[\"p4\"]\n",
    "summary(ew).loc[[\"count\", \"mean\", \"std\", \"tstat\", \"pval\"],].round(3)"
   ]
  },
  {
   "cell_type": "markdown",
   "id": "13",
   "metadata": {},
   "source": [
    "**Task 3**\n",
    "\n",
    "+ Compute the average number of stocks in the portfolios.<br><br>"
   ]
  },
  {
   "cell_type": "code",
   "execution_count": null,
   "id": "14",
   "metadata": {},
   "outputs": [],
   "source": [
    "df.groupby([\"date\", \"bins\"])[\"ret\"].count().unstack(level=\"bins\").mean()"
   ]
  },
  {
   "cell_type": "markdown",
   "id": "15",
   "metadata": {},
   "source": [
    "**Task 4**\n",
    "\n",
    "+ Form equal-weight portfolios based on three month lagged dispersion.<br><br>"
   ]
  },
  {
   "cell_type": "code",
   "execution_count": null,
   "id": "16",
   "metadata": {},
   "outputs": [],
   "source": [
    "df = df.query(\"displag3 == displag3 and prclag >= 5 and meanest > -inf\").reset_index(drop=True)\n",
    "\n",
    "df[\"bins3\"] = df.groupby(\"date\")[\"displag3\"].transform(pd.qcut, 5, labels=False)\n",
    "\n",
    "ew = (\n",
    "    df.groupby([\"date\", \"bins3\"])[\"ret\"]\n",
    "    .mean()\n",
    "    .unstack(level=\"bins3\")\n",
    "    .rename(\"p{:.0f}\".format, axis=\"columns\")\n",
    "    * 100\n",
    ")"
   ]
  },
  {
   "cell_type": "code",
   "execution_count": null,
   "id": "17",
   "metadata": {},
   "outputs": [],
   "source": [
    "ew[\"spr\"] = ew[\"p0\"] - ew[\"p4\"]\n",
    "summary(ew).loc[[\"count\", \"mean\", \"std\", \"tstat\", \"pval\"],].round(3)"
   ]
  },
  {
   "cell_type": "code",
   "execution_count": null,
   "id": "18",
   "metadata": {},
   "outputs": [],
   "source": []
  }
 ],
 "metadata": {
  "kernelspec": {
   "display_name": "Python 3",
   "language": "python",
   "name": "python3"
  },
  "language_info": {
   "codemirror_mode": {
    "name": "ipython",
    "version": 2
   },
   "file_extension": ".py",
   "mimetype": "text/x-python",
   "name": "python",
   "nbconvert_exporter": "python",
   "pygments_lexer": "ipython2",
   "version": "2.7.6"
  }
 },
 "nbformat": 4,
 "nbformat_minor": 5
}
